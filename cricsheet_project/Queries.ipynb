{
 "cells": [
  {
   "cell_type": "code",
   "execution_count": 1,
   "id": "4b541e04-3983-4a1c-b097-32a2fdfab4bc",
   "metadata": {},
   "outputs": [],
   "source": [
    "import mysql.connector\n",
    "import pandas as pd"
   ]
  },
  {
   "cell_type": "code",
   "execution_count": 14,
   "id": "29a5e681-4a6d-4bc0-8812-870cb4e086d4",
   "metadata": {},
   "outputs": [],
   "source": [
    "connection=mysql.connector.connect(\n",
    "    host='localhost',\n",
    "    user='root',\n",
    "    password='root',\n",
    "    database='cric_sheet'\n",
    ")"
   ]
  },
  {
   "cell_type": "code",
   "execution_count": 15,
   "id": "87a75374-40a7-4e0b-b5c2-dc51cc0c0c7e",
   "metadata": {},
   "outputs": [],
   "source": [
    "cursor=connection.cursor()"
   ]
  },
  {
   "cell_type": "code",
   "execution_count": 16,
   "id": "58861b6f-c021-4361-acca-9269bbed265f",
   "metadata": {},
   "outputs": [
    {
     "name": "stderr",
     "output_type": "stream",
     "text": [
      "C:\\Users\\tamiz\\AppData\\Local\\Temp\\ipykernel_11344\\733205007.py:17: UserWarning: pandas only supports SQLAlchemy connectable (engine/connection) or database string URI or sqlite3 DBAPI2 connection. Other DBAPI2 objects are not tested. Please consider using SQLAlchemy.\n",
      "  df_batting_status=pd.read_sql(query1,con=connection)\n"
     ]
    },
    {
     "name": "stdout",
     "output_type": "stream",
     "text": [
      "             batsman  balls_faced  total_runs  times_out batting_average  \\\n",
      "0  A Aitken-Drummond          114        78.0          0            None   \n",
      "1         A Athanaze          378       306.0          0            None   \n",
      "2            A Bagai          995       614.0          0            None   \n",
      "3        A Balbirnie         3557      2628.0          0            None   \n",
      "4            A Bosch          481       355.0          0            None   \n",
      "\n",
      "   strike_rate  \n",
      "0        68.42  \n",
      "1        80.95  \n",
      "2        61.71  \n",
      "3        73.88  \n",
      "4        73.80  \n"
     ]
    }
   ],
   "source": [
    "query1='''\n",
    "select \n",
    "batsman,\n",
    "count(*) as balls_faced,\n",
    "sum(runs_batsman) as total_runs,\n",
    "count(player_out) as times_out,\n",
    "round(sum(runs_batsman)/nullif(count(player_out),0),2) as batting_average,\n",
    "round(sum(runs_batsman)/count(*)*100,2) as strike_rate\n",
    "\n",
    "from odi_match_deliveries\n",
    "where batsman is not null\n",
    "group by batsman\n",
    "having balls_faced >=30\n",
    "order by batting_average desc;\n",
    "'''\n",
    "\n",
    "df_batting_status=pd.read_sql(query1,con=connection)\n",
    "print(df_batting_status.head())"
   ]
  },
  {
   "cell_type": "code",
   "execution_count": 17,
   "id": "daf9ba24-0257-472b-af71-e337d750e96d",
   "metadata": {},
   "outputs": [
    {
     "name": "stderr",
     "output_type": "stream",
     "text": [
      "C:\\Users\\tamiz\\AppData\\Local\\Temp\\ipykernel_11344\\4094213639.py:15: UserWarning: pandas only supports SQLAlchemy connectable (engine/connection) or database string URI or sqlite3 DBAPI2 connection. Other DBAPI2 objects are not tested. Please consider using SQLAlchemy.\n",
      "  df_pressure_perf=pd.read_sql(query2,con=connection)\n"
     ]
    },
    {
     "name": "stdout",
     "output_type": "stream",
     "text": [
      "          batsman  balls_faced  total_runs  avg_rns_per_ball  strike_rate\n",
      "0  Rishad Hossain           18        48.0              2.67       266.67\n",
      "1    R Telemachus           19        41.0              2.16       215.79\n",
      "2       RR Watson           15        27.0              1.80       180.00\n",
      "3    AAP Atkinson           36        63.0              1.75       175.00\n",
      "4        FY Fazal           15        26.0              1.73       173.33\n"
     ]
    }
   ],
   "source": [
    "query2='''\n",
    "select batsman,\n",
    "count(*) as balls_faced,\n",
    "sum(runs_batsman) as total_runs,\n",
    "round(sum(runs_batsman)/count(*),2) as avg_rns_per_ball,\n",
    "round(sum(runs_batsman)/count(*)*100,2) as strike_rate\n",
    "\n",
    "from odi_match_deliveries\n",
    "where innings=2 and `over`>=16 and batsman is not null\n",
    "group by batsman\n",
    "having balls_faced >=15\n",
    "order by strike_rate desc;\n",
    "'''\n",
    "\n",
    "df_pressure_perf=pd.read_sql(query2,con=connection)\n",
    "print(df_pressure_perf.head())"
   ]
  },
  {
   "cell_type": "code",
   "execution_count": null,
   "id": "f02eb534-b682-4e93-b7fd-a81bd0d993b4",
   "metadata": {},
   "outputs": [],
   "source": []
  },
  {
   "cell_type": "code",
   "execution_count": null,
   "id": "b94d93ee-e1af-4568-b63e-be2fee6ccb4d",
   "metadata": {},
   "outputs": [],
   "source": []
  }
 ],
 "metadata": {
  "kernelspec": {
   "display_name": "Python 3 (ipykernel)",
   "language": "python",
   "name": "python3"
  },
  "language_info": {
   "codemirror_mode": {
    "name": "ipython",
    "version": 3
   },
   "file_extension": ".py",
   "mimetype": "text/x-python",
   "name": "python",
   "nbconvert_exporter": "python",
   "pygments_lexer": "ipython3",
   "version": "3.13.2"
  }
 },
 "nbformat": 4,
 "nbformat_minor": 5
}
